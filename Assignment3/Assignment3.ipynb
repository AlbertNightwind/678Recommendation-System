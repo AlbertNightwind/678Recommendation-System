import numpy as np
import pandas as pd
required_df = pd.read_excel('Data for Programming3 v2.xlsx')  
    
type(required_df)
required_df_no_na = required_df.dropna(axis=0, how='all').reset_index(drop=True)   ####### axis = 0 means row, axis = 1 means column  ########

#Text =required_df_no_na['Alberta']['Average Temperature (F)']
Ave_Temp = required_df_no_na.loc[required_df_no_na['Alberta'] == 'Average Temperature (F)']
Ave_Htemp = required_df_no_na.loc[required_df_no_na['Alberta'] == 'Average High Temperature (F)']
Ave_Ltemp = required_df_no_na.loc[required_df_no_na['Alberta'] == 'Average Low Temperature (F)']
Ave_Prec = required_df_no_na.loc[required_df_no_na['Alberta'] == 'Average Precipitation (in)']

Ave_Temp = Ave_Temp.rename(columns={'Alberta': 'Average Total'})
Ave_Temp = Ave_Temp.rename(columns={'# CITIES\xa0': 'CITIES'})
Ave_Temp = Ave_Temp.reset_index(drop = True)

Ave_Htemp = Ave_Htemp.rename(columns={'Alberta': 'Average Total'})
Ave_Htemp = Ave_Htemp.rename(columns={'# CITIES\xa0': 'CITIES'})
Ave_Htemp = Ave_Htemp.reset_index(drop = True)

Ave_Ltemp = Ave_Ltemp.rename(columns={'Alberta': 'Average Total'})
Ave_Ltemp = Ave_Ltemp.rename(columns={'# CITIES\xa0': 'CITIES'})
Ave_Ltemp = Ave_Ltemp.reset_index(drop = True)

Ave_Prec = Ave_Prec.rename(columns={'Alberta': 'Average Total'})
Ave_Prec = Ave_Prec.rename(columns={'# CITIES\xa0': 'CITIES'})
Ave_Prec = Ave_Prec.reset_index(drop = True)

Ave_Temp_append = Ave_Temp
Ave_Temp_append = Ave_Temp_append.append([Ave_Temp.loc[0,:]]* (Ave_Temp.iloc[0]['CITIES']-1),ignore_index=True)
Ave_Temp_append = Ave_Temp_append.append([Ave_Temp.loc[1,:]]* (Ave_Temp.iloc[1]['CITIES']-1),ignore_index=True)
Ave_Temp_append = Ave_Temp_append.append([Ave_Temp.loc[2,:]]* (Ave_Temp.iloc[2]['CITIES']-1),ignore_index=True)
Ave_Temp_append = Ave_Temp_append.append([Ave_Temp.loc[3,:]]* (Ave_Temp.iloc[3]['CITIES']-1),ignore_index=True)
Ave_Temp_append = Ave_Temp_append.append([Ave_Temp.loc[4,:]]* (Ave_Temp.iloc[4]['CITIES']-1),ignore_index=True)
Ave_Temp_append = Ave_Temp_append.append([Ave_Temp.loc[5,:]]* (Ave_Temp.iloc[5]['CITIES']-1),ignore_index=True)
Ave_Temp_append = Ave_Temp_append.append([Ave_Temp.loc[6,:]]* (Ave_Temp.iloc[6]['CITIES']-1),ignore_index=True)
Ave_Temp_append = Ave_Temp_append.append([Ave_Temp.loc[7,:]]* (Ave_Temp.iloc[7]['CITIES']-1),ignore_index=True)
Ave_Temp_append = Ave_Temp_append.append([Ave_Temp.loc[8,:]]* (Ave_Temp.iloc[8]['CITIES']-1),ignore_index=True)
Ave_Temp_append = Ave_Temp_append.append([Ave_Temp.loc[9,:]]* (Ave_Temp.iloc[9]['CITIES']-1),ignore_index=True)
Ave_Temp_append = Ave_Temp_append.append([Ave_Temp.loc[10,:]]* (Ave_Temp.iloc[10]['CITIES']-1),ignore_index=True)
Ave_Temp_append = Ave_Temp_append.append([Ave_Temp.loc[11,:]]* (Ave_Temp.iloc[11]['CITIES']-1),ignore_index=True)
Ave_Temp_append = Ave_Temp_append.append([Ave_Temp.loc[12,:]]* (Ave_Temp.iloc[12]['CITIES']-1),ignore_index=True)
#Ave_Temp_append 

Ave_Htemp_append = Ave_Htemp
Ave_Htemp_append = Ave_Htemp_append.append([Ave_Htemp.loc[0,:]]* (Ave_Htemp.iloc[0]['CITIES']-1),ignore_index=True)
Ave_Htemp_append = Ave_Htemp_append.append([Ave_Htemp.loc[1,:]]* (Ave_Htemp.iloc[1]['CITIES']-1),ignore_index=True)
Ave_Htemp_append = Ave_Htemp_append.append([Ave_Htemp.loc[2,:]]* (Ave_Htemp.iloc[2]['CITIES']-1),ignore_index=True)
Ave_Htemp_append = Ave_Htemp_append.append([Ave_Htemp.loc[3,:]]* (Ave_Htemp.iloc[3]['CITIES']-1),ignore_index=True)
Ave_Htemp_append = Ave_Htemp_append.append([Ave_Htemp.loc[4,:]]* (Ave_Htemp.iloc[4]['CITIES']-1),ignore_index=True)
Ave_Htemp_append = Ave_Htemp_append.append([Ave_Htemp.loc[5,:]]* (Ave_Htemp.iloc[5]['CITIES']-1),ignore_index=True)
Ave_Htemp_append = Ave_Htemp_append.append([Ave_Htemp.loc[6,:]]* (Ave_Htemp.iloc[6]['CITIES']-1),ignore_index=True)
Ave_Htemp_append = Ave_Htemp_append.append([Ave_Htemp.loc[7,:]]* (Ave_Htemp.iloc[7]['CITIES']-1),ignore_index=True)
Ave_Htemp_append = Ave_Htemp_append.append([Ave_Htemp.loc[8,:]]* (Ave_Htemp.iloc[8]['CITIES']-1),ignore_index=True)
Ave_Htemp_append = Ave_Htemp_append.append([Ave_Htemp.loc[9,:]]* (Ave_Htemp.iloc[9]['CITIES']-1),ignore_index=True)
Ave_Htemp_append = Ave_Htemp_append.append([Ave_Htemp.loc[10,:]]* (Ave_Htemp.iloc[10]['CITIES']-1),ignore_index=True)
Ave_Htemp_append = Ave_Htemp_append.append([Ave_Htemp.loc[11,:]]* (Ave_Htemp.iloc[11]['CITIES']-1),ignore_index=True)
Ave_Htemp_append = Ave_Htemp_append.append([Ave_Htemp.loc[12,:]]* (Ave_Htemp.iloc[12]['CITIES']-1),ignore_index=True)
#Ave_Htemp_append

Ave_Ltemp_append = Ave_Ltemp
Ave_Ltemp_append = Ave_Ltemp_append.append([Ave_Ltemp.loc[0,:]]* (Ave_Ltemp.iloc[0]['CITIES']-1),ignore_index=True)
Ave_Ltemp_append = Ave_Ltemp_append.append([Ave_Ltemp.loc[1,:]]* (Ave_Ltemp.iloc[1]['CITIES']-1),ignore_index=True)
Ave_Ltemp_append = Ave_Ltemp_append.append([Ave_Ltemp.loc[2,:]]* (Ave_Ltemp.iloc[2]['CITIES']-1),ignore_index=True)
Ave_Ltemp_append = Ave_Ltemp_append.append([Ave_Ltemp.loc[3,:]]* (Ave_Ltemp.iloc[3]['CITIES']-1),ignore_index=True)
Ave_Ltemp_append = Ave_Ltemp_append.append([Ave_Ltemp.loc[4,:]]* (Ave_Ltemp.iloc[4]['CITIES']-1),ignore_index=True)
Ave_Ltemp_append = Ave_Ltemp_append.append([Ave_Ltemp.loc[5,:]]* (Ave_Ltemp.iloc[5]['CITIES']-1),ignore_index=True)
Ave_Ltemp_append = Ave_Ltemp_append.append([Ave_Ltemp.loc[6,:]]* (Ave_Ltemp.iloc[6]['CITIES']-1),ignore_index=True)
Ave_Ltemp_append = Ave_Ltemp_append.append([Ave_Ltemp.loc[7,:]]* (Ave_Ltemp.iloc[7]['CITIES']-1),ignore_index=True)
Ave_Ltemp_append = Ave_Ltemp_append.append([Ave_Ltemp.loc[8,:]]* (Ave_Ltemp.iloc[8]['CITIES']-1),ignore_index=True)
Ave_Ltemp_append = Ave_Ltemp_append.append([Ave_Ltemp.loc[9,:]]* (Ave_Ltemp.iloc[9]['CITIES']-1),ignore_index=True)
Ave_Ltemp_append = Ave_Ltemp_append.append([Ave_Ltemp.loc[10,:]]* (Ave_Ltemp.iloc[10]['CITIES']-1),ignore_index=True)
Ave_Ltemp_append = Ave_Ltemp_append.append([Ave_Ltemp.loc[11,:]]* (Ave_Ltemp.iloc[11]['CITIES']-1),ignore_index=True)
Ave_Ltemp_append = Ave_Ltemp_append.append([Ave_Ltemp.loc[12,:]]* (Ave_Ltemp.iloc[12]['CITIES']-1),ignore_index=True)
#Ave_Ltemp_append

Ave_Prec_append = Ave_Prec
Ave_Prec_append = Ave_Prec_append.append([Ave_Prec.loc[0,:]]* (Ave_Prec.iloc[0]['CITIES']-1),ignore_index=True)
Ave_Prec_append = Ave_Prec_append.append([Ave_Prec.loc[1,:]]* (Ave_Prec.iloc[1]['CITIES']-1),ignore_index=True)
Ave_Prec_append = Ave_Prec_append.append([Ave_Prec.loc[2,:]]* (Ave_Prec.iloc[2]['CITIES']-1),ignore_index=True)
Ave_Prec_append = Ave_Prec_append.append([Ave_Prec.loc[3,:]]* (Ave_Prec.iloc[3]['CITIES']-1),ignore_index=True)
Ave_Prec_append = Ave_Prec_append.append([Ave_Prec.loc[4,:]]* (Ave_Prec.iloc[4]['CITIES']-1),ignore_index=True)
Ave_Prec_append = Ave_Prec_append.append([Ave_Prec.loc[5,:]]* (Ave_Prec.iloc[5]['CITIES']-1),ignore_index=True)
Ave_Prec_append = Ave_Prec_append.append([Ave_Prec.loc[6,:]]* (Ave_Prec.iloc[6]['CITIES']-1),ignore_index=True)
Ave_Prec_append = Ave_Prec_append.append([Ave_Prec.loc[7,:]]* (Ave_Prec.iloc[7]['CITIES']-1),ignore_index=True)
Ave_Prec_append = Ave_Prec_append.append([Ave_Prec.loc[8,:]]* (Ave_Prec.iloc[8]['CITIES']-1),ignore_index=True)
Ave_Prec_append = Ave_Prec_append.append([Ave_Prec.loc[9,:]]* (Ave_Prec.iloc[9]['CITIES']-1),ignore_index=True)
Ave_Prec_append = Ave_Prec_append.append([Ave_Prec.loc[10,:]]* (Ave_Prec.iloc[10]['CITIES']-1),ignore_index=True)
Ave_Prec_append = Ave_Prec_append.append([Ave_Prec.loc[11,:]]* (Ave_Prec.iloc[11]['CITIES']-1),ignore_index=True)
Ave_Prec_append = Ave_Prec_append.append([Ave_Prec.loc[12,:]]* (Ave_Prec.iloc[12]['CITIES']-1),ignore_index=True)
#Ave_Prec_append

Ave_Temp_append.to_csv("Ave_Temp_append.csv")
Ave_Htemp_append.to_csv("Ave_Htemp_append.csv")
Ave_Ltemp_append.to_csv("Ave_Ltemp_append.csv")
Ave_Prec_append.to_csv("Ave_Prec_append.csv")

###################################### Spark    #####################################################
from pyspark.sql import SQLContext
from pyspark import SparkContext
sc = SparkContext()
sqlContext = SQLContext(sc)

from pyspark.sql import SQLContext
sqlContext = SQLContext(sc)

dftemp = sqlContext.read.format('com.databricks.spark.csv').options(header='true', inferschema='true').load('Ave_Temp_append.csv')
dfhtemp = sqlContext.read.format('com.databricks.spark.csv').options(header='true', inferschema='true').load('Ave_Htemp_append.csv')
dfltemp = sqlContext.read.format('com.databricks.spark.csv').options(header='true', inferschema='true').load('Ave_Ltemp_append.csv')
dfprec = sqlContext.read.format('com.databricks.spark.csv').options(header='true', inferschema='true').load('Ave_Prec_append.csv')


temp = dftemp.describe().toPandas()
htemp = dfhtemp.describe().toPandas()
ltemp = dfltemp.describe().toPandas()
prec = dfprec.describe().toPandas()

temp_res = pd.DataFrame(temp.loc[1]).T
htemp_res = pd.DataFrame(htemp.loc[1]).T
ltemp_res = pd.DataFrame(ltemp.loc[1]).T
prec_res = pd.DataFrame(prec.loc[1]).T

temp_res['Average Total'] = 'Average Temperature (F)'
htemp_res['Average Total'] = 'Average High Temperature (F)'
ltemp_res['Average Total'] = 'Average Low Temperature (F)'
prec_res['Average Total'] = 'Average Precipitation (in)'

Average_CA_Summary = pd.concat([temp_res,htemp_res,ltemp_res,prec_res])

Average_CA_Summary.drop(Average_CA_Summary.columns[[0, 1, 16, 17]], axis = 1, inplace = True) 
Average_CA_Summary



